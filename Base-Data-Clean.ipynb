{
 "cells": [
  {
   "cell_type": "code",
   "execution_count": 22,
   "metadata": {},
   "outputs": [],
   "source": [
    "import pandas as pd"
   ]
  },
  {
   "cell_type": "code",
   "execution_count": 23,
   "metadata": {},
   "outputs": [],
   "source": [
    "df = pd.read_excel(r\"C:\\Users\\presw\\Documents\\Scouting Report/IBA_Pitchers.xlsx\")\n"
   ]
  },
  {
   "cell_type": "code",
   "execution_count": 24,
   "metadata": {},
   "outputs": [],
   "source": [
    "#Get Rid of all un-needed pitchers\n",
    "for x in df.index:\n",
    "    if df.loc[x, \"PitcherID\"] != int(321):\n",
    "        df.drop(x, inplace=True)\n",
    "\n",
    "\n"
   ]
  },
  {
   "cell_type": "code",
   "execution_count": 25,
   "metadata": {},
   "outputs": [
    {
     "data": {
      "text/plain": [
       "KorBB\n",
       "Undefined    728\n",
       "Strikeout     50\n",
       "Walk          12\n",
       "Name: count, dtype: int64"
      ]
     },
     "execution_count": 25,
     "metadata": {},
     "output_type": "execute_result"
    }
   ],
   "source": [
    "#Amount of Strikeouts and Walks\n",
    "df[\"KorBB\"].value_counts()"
   ]
  },
  {
   "cell_type": "code",
   "execution_count": 26,
   "metadata": {},
   "outputs": [
    {
     "data": {
      "text/plain": [
       "TaggedPitchType\n",
       "Fastball     507\n",
       "Changeup     176\n",
       "Slider        76\n",
       "Curveball     31\n",
       "Name: count, dtype: int64"
      ]
     },
     "execution_count": 26,
     "metadata": {},
     "output_type": "execute_result"
    }
   ],
   "source": [
    "#Find Overall Pitch Usage\n",
    "df[\"TaggedPitchType\"].value_counts()"
   ]
  },
  {
   "cell_type": "code",
   "execution_count": 27,
   "metadata": {},
   "outputs": [
    {
     "data": {
      "text/plain": [
       "RunsScored\n",
       "0    776\n",
       "1     10\n",
       "2      3\n",
       "3      1\n",
       "Name: count, dtype: int64"
      ]
     },
     "execution_count": 27,
     "metadata": {},
     "output_type": "execute_result"
    }
   ],
   "source": [
    "#Find Runs Scored\n",
    "df[\"RunsScored\"].value_counts()"
   ]
  },
  {
   "cell_type": "code",
   "execution_count": 28,
   "metadata": {},
   "outputs": [
    {
     "data": {
      "text/plain": [
       "PlayResult\n",
       "Undefined         650\n",
       "Out                91\n",
       "Single             28\n",
       "Double             10\n",
       "HomeRun             5\n",
       "Sacrifice           4\n",
       "FieldersChoice      2\n",
       "Name: count, dtype: int64"
      ]
     },
     "execution_count": 28,
     "metadata": {},
     "output_type": "execute_result"
    }
   ],
   "source": [
    "#Used Various Ways to Calculate AB and other stats\n",
    "df[\"PlayResult\"].value_counts()"
   ]
  },
  {
   "cell_type": "code",
   "execution_count": 29,
   "metadata": {},
   "outputs": [
    {
     "data": {
      "text/plain": [
       "PitchCall\n",
       "BallCalled        274\n",
       "FoulBall          153\n",
       "InPlay            140\n",
       "StrikeCalled      132\n",
       "StrikeSwinging     86\n",
       "HitByPitch          3\n",
       "BallinDirt          2\n",
       "Name: count, dtype: int64"
      ]
     },
     "execution_count": 29,
     "metadata": {},
     "output_type": "execute_result"
    }
   ],
   "source": [
    "#Used to calculate whiff rate and missed swings\n",
    "df[\"PitchCall\"].value_counts()"
   ]
  },
  {
   "cell_type": "markdown",
   "metadata": {},
   "source": []
  }
 ],
 "metadata": {
  "kernelspec": {
   "display_name": "Python 3",
   "language": "python",
   "name": "python3"
  },
  "language_info": {
   "codemirror_mode": {
    "name": "ipython",
    "version": 3
   },
   "file_extension": ".py",
   "mimetype": "text/x-python",
   "name": "python",
   "nbconvert_exporter": "python",
   "pygments_lexer": "ipython3",
   "version": "3.11.7"
  }
 },
 "nbformat": 4,
 "nbformat_minor": 2
}
