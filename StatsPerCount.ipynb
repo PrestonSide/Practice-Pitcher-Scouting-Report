{
 "cells": [
  {
   "cell_type": "code",
   "execution_count": 68,
   "metadata": {},
   "outputs": [],
   "source": [
    "import pandas as pd"
   ]
  },
  {
   "cell_type": "code",
   "execution_count": 69,
   "metadata": {},
   "outputs": [],
   "source": [
    "df = pd.read_excel(r\"C:\\Users\\presw\\Documents\\Scouting Report/IBA_Pitchers.xlsx\")"
   ]
  },
  {
   "cell_type": "code",
   "execution_count": 70,
   "metadata": {},
   "outputs": [],
   "source": [
    "#Clean data to only look at what pitch count I specify\n",
    "Balls = input(\"Balls: \")\n",
    "Strikes = input(\"Strikes:\" )\n",
    "\n",
    "for x in df.index:\n",
    "    if df.loc[x, \"PitcherID\"] != int(321):\n",
    "        df.drop(x, inplace=True)\n",
    "\n",
    "for x in df.index:\n",
    "    if df.loc[x, \"Balls\"] != int(Balls):\n",
    "        df.drop(x, inplace=True)\n",
    "\n",
    "for x in df.index:\n",
    "    if df.loc[x, \"Strikes\"] != int(Strikes):\n",
    "        df.drop(x, inplace=True)\n"
   ]
  },
  {
   "cell_type": "code",
   "execution_count": 71,
   "metadata": {},
   "outputs": [
    {
     "data": {
      "text/plain": [
       "TaggedPitchType\n",
       "Fastball    40\n",
       "Changeup     3\n",
       "Name: count, dtype: int64"
      ]
     },
     "execution_count": 71,
     "metadata": {},
     "output_type": "execute_result"
    }
   ],
   "source": [
    "df[\"TaggedPitchType\"].value_counts()\n",
    "\n"
   ]
  },
  {
   "cell_type": "code",
   "execution_count": 72,
   "metadata": {},
   "outputs": [
    {
     "data": {
      "text/plain": [
       "PitchCall\n",
       "FoulBall          12\n",
       "BallCalled        11\n",
       "InPlay             9\n",
       "StrikeCalled       6\n",
       "StrikeSwinging     5\n",
       "Name: count, dtype: int64"
      ]
     },
     "execution_count": 72,
     "metadata": {},
     "output_type": "execute_result"
    }
   ],
   "source": [
    "df[\"PitchCall\"].value_counts()"
   ]
  },
  {
   "cell_type": "code",
   "execution_count": null,
   "metadata": {},
   "outputs": [],
   "source": []
  }
 ],
 "metadata": {
  "kernelspec": {
   "display_name": "Python 3",
   "language": "python",
   "name": "python3"
  },
  "language_info": {
   "codemirror_mode": {
    "name": "ipython",
    "version": 3
   },
   "file_extension": ".py",
   "mimetype": "text/x-python",
   "name": "python",
   "nbconvert_exporter": "python",
   "pygments_lexer": "ipython3",
   "version": "3.11.7"
  }
 },
 "nbformat": 4,
 "nbformat_minor": 2
}
